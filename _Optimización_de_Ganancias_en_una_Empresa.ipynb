{
  "nbformat": 4,
  "nbformat_minor": 0,
  "metadata": {
    "colab": {
      "private_outputs": true,
      "provenance": [],
      "authorship_tag": "ABX9TyMGqN5wd6pQPziNBbIrGCu6",
      "include_colab_link": true
    },
    "kernelspec": {
      "name": "python3",
      "display_name": "Python 3"
    },
    "language_info": {
      "name": "python"
    }
  },
  "cells": [
    {
      "cell_type": "markdown",
      "metadata": {
        "id": "view-in-github",
        "colab_type": "text"
      },
      "source": [
        "<a href=\"https://colab.research.google.com/github/WellcomePeujio/-Optimizacion-de-Ganancias-en-una-Empresa/blob/main/_Optimizaci%C3%B3n_de_Ganancias_en_una_Empresa.ipynb\" target=\"_parent\"><img src=\"https://colab.research.google.com/assets/colab-badge.svg\" alt=\"Open In Colab\"/></a>"
      ]
    },
    {
      "cell_type": "markdown",
      "source": [
        "# Optimización de Ganancias en una Empresa\n",
        "\n",
        "**Problema**: Una empresa estima que sus ingresos $(R(x))$ y costos $(C(x))$ están dados por:\n",
        "\n",
        "$$\n",
        "R(x) = 50x - 2x^2\n",
        "$$\n",
        "\n",
        "$$\n",
        "C(x) = 10x + 100\n",
        "$$\n",
        "\n",
        "**Preguntas**:\n",
        "\n",
        "1. Encuentra el nivel de producción $(x)$ que maximiza las ganancias.  \n",
        "2. Calcula la ganancia máxima.  \n"
      ],
      "metadata": {
        "id": "5ehjUNvi4Ku8"
      }
    },
    {
      "cell_type": "markdown",
      "source": [
        "# Resolución de la Optimización de Ganancias en una Empresa\n",
        "\n",
        "## Paso 1: Fórmula para las Ganancias\n",
        "\n",
        "La ganancia $(G(x))$ se calcula como la diferencia entre los ingresos $(R(x))$ y los costos $(C(x))$:\n",
        "\n",
        "$$\n",
        "G(x) = R(x) - C(x)\n",
        "$$\n",
        "\n",
        "Sustituyendo las expresiones dadas:\n",
        "\n",
        "$$\n",
        "G(x) = (50x - 2x^2) - (10x + 100)\n",
        "$$\n",
        "\n",
        "Simplificamos:\n",
        "\n",
        "$$\n",
        "G(x) = 50x - 2x^2 - 10x - 100\n",
        "$$\n",
        "\n",
        "$$\n",
        "G(x) = -2x^2 + 40x - 100\n",
        "$$\n",
        "\n",
        "---\n",
        "\n",
        "## Paso 2: Derivada de la Ganancia para Encontrar el Máximo\n",
        "\n",
        "Para maximizar las ganancias, derivamos $G(x)$ con respecto a $x$ y la igualamos a cero:\n",
        "\n",
        "$$\n",
        "\\frac{dG(x)}{dx} = -4x + 40\n",
        "$$\n",
        "\n",
        "Igualamos a cero:\n",
        "\n",
        "$$\n",
        "-4x + 40 = 0\n",
        "$$\n",
        "\n",
        "Resolviendo para $x$:\n",
        "\n",
        "$$\n",
        "x = \\frac{40}{4} = 10\n",
        "$$\n",
        "\n",
        "El nivel de producción que maximiza las ganancias es $x = 10$.\n",
        "\n",
        "---\n",
        "\n",
        "## Paso 3: Cálculo de la Ganancia Máxima\n",
        "\n",
        "Sustituimos $x = 10$ en la función de ganancias $G(x)$:\n",
        "\n",
        "$$\n",
        "G(10) = -2(10)^2 + 40(10) - 100\n",
        "$$\n",
        "\n",
        "$$\n",
        "G(10) = -200 + 400 - 100 = 100\n",
        "$$\n",
        "\n",
        "La ganancia máxima es **$100**.\n",
        "\n",
        "---\n",
        "\n",
        "## Conclusión\n",
        "\n",
        "1. El nivel de producción que maximiza las ganancias es **10 unidades**.  \n",
        "2. La ganancia máxima es **$100**.  \n"
      ],
      "metadata": {
        "id": "Nl2SLo0b4VMJ"
      }
    },
    {
      "cell_type": "code",
      "source": [
        "import numpy as np\n",
        "import matplotlib.pyplot as plt\n",
        "\n",
        "# Definir las funciones de ingresos, costos y ganancias\n",
        "def ingresos(x):\n",
        "    return 50 * x - 2 * x**2\n",
        "\n",
        "def costos(x):\n",
        "    return 10 * x + 100\n",
        "\n",
        "def ganancias(x):\n",
        "    return ingresos(x) - costos(x)\n",
        "\n",
        "# Rango de valores para la producción (x)\n",
        "x = np.linspace(0, 20, 100)\n",
        "\n",
        "# Calcular ingresos, costos y ganancias\n",
        "y_ingresos = ingresos(x)\n",
        "y_costos = costos(x)\n",
        "y_ganancias = ganancias(x)\n",
        "\n",
        "# Encontrar el nivel de producción que maximiza las ganancias\n",
        "x_optimo = 10  # Calculado previamente\n",
        "ganancia_maxima = ganancias(x_optimo)\n",
        "\n",
        "# Crear la gráfica\n",
        "plt.figure(figsize=(10, 6))\n",
        "plt.plot(x, y_ingresos, label=\"Ingresos R(x)\", color=\"blue\")\n",
        "plt.plot(x, y_costos, label=\"Costos C(x)\", color=\"red\")\n",
        "plt.plot(x, y_ganancias, label=\"Ganancias G(x)\", color=\"green\")\n",
        "plt.scatter(x_optimo, ganancia_maxima, color=\"black\", zorder=5, label=f\"Máxima Ganancia: ${ganancia_maxima} en x={x_optimo}\")\n",
        "plt.axvline(x_optimo, color=\"gray\", linestyle=\"--\", alpha=0.7)\n",
        "plt.xlabel(\"Producción (x)\")\n",
        "plt.ylabel(\"Valor ($)\")\n",
        "plt.title(\"Evolución de Ingresos, Costos y Ganancias\")\n",
        "plt.legend()\n",
        "plt.grid(True)\n",
        "plt.show()\n"
      ],
      "metadata": {
        "id": "aoN_b-GC4ZCy"
      },
      "execution_count": null,
      "outputs": []
    }
  ]
}